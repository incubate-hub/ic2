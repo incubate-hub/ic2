{
 "cells": [
  {
   "cell_type": "code",
   "execution_count": 9,
   "id": "2b7f0183",
   "metadata": {},
   "outputs": [
    {
     "name": "stdout",
     "output_type": "stream",
     "text": [
      "Number of anomalies detected: 0\n"
     ]
    }
   ],
   "source": [
    "import numpy as np\n",
    "import tensorflow as tf\n",
    "from sklearn.ensemble import IsolationForest\n",
    "\n",
    "def vectorize_program(program):\n",
    "    # Tokenize and vectorize the program\n",
    "    tokenizer = tf.keras.preprocessing.text.Tokenizer()\n",
    "    tokenizer.fit_on_texts([program])\n",
    "    sequence = tokenizer.texts_to_sequences([program])[0]\n",
    "    padded_sequence = tf.keras.preprocessing.sequence.pad_sequences([sequence])\n",
    "    vectorized_program = tf.one_hot(padded_sequence, depth=len(tokenizer.word_index)+1)\n",
    "\n",
    "    # Pad the program vector with zeros along the second dimension\n",
    "    max_len = max(len(sequence), 1)\n",
    "    padded_program = tf.keras.preprocessing.sequence.pad_sequences(vectorized_program, maxlen=max_len, padding='post')\n",
    "    vectorized_program_2d = np.reshape(padded_program, (-1, padded_program.shape[-1]))\n",
    "\n",
    "    return vectorized_program_2d\n",
    "\n",
    "# Read both programs from files\n",
    "with open('add1.py', 'r') as file:\n",
    "    program1 = file.read()\n",
    "with open('kruskal1.py', 'r') as file:\n",
    "    program2 = file.read()\n",
    "\n",
    "# Concatenate the programs\n",
    "combined_program = program1 + '\\n\\n' + program2\n",
    "\n",
    "# Vectorize the combined program\n",
    "vectorized_program = vectorize_program(combined_program)\n",
    "\n",
    "# Split the data into training and testing sets\n",
    "train_size = int(0.8 * vectorized_program.shape[0])\n",
    "train_data = vectorized_program[:train_size]\n",
    "test_data = vectorized_program[train_size:]\n",
    "\n",
    "# Fit the IsolationForest model on the training set\n",
    "model = IsolationForest(n_estimators=100, contamination=0.01, random_state=42)\n",
    "model.fit(train_data)\n",
    "\n",
    "# Use the trained model to predict anomalies in the test set\n",
    "predictions = model.predict(test_data)\n",
    "\n",
    "# Print the number of anomalies detected by the model\n",
    "print(\"Number of anomalies detected:\", sum(predictions == -1))\n"
   ]
  },
  {
   "cell_type": "code",
   "execution_count": null,
   "id": "93d892ed",
   "metadata": {},
   "outputs": [],
   "source": []
  }
 ],
 "metadata": {
  "kernelspec": {
   "display_name": "Python 3 (ipykernel)",
   "language": "python",
   "name": "python3"
  },
  "language_info": {
   "codemirror_mode": {
    "name": "ipython",
    "version": 3
   },
   "file_extension": ".py",
   "mimetype": "text/x-python",
   "name": "python",
   "nbconvert_exporter": "python",
   "pygments_lexer": "ipython3",
   "version": "3.8.16"
  }
 },
 "nbformat": 4,
 "nbformat_minor": 5
}
